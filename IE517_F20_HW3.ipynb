{
 "cells": [
  {
   "cell_type": "code",
   "execution_count": 1,
   "metadata": {},
   "outputs": [],
   "source": [
    "import numpy as np\n",
    "import seaborn as sns\n",
    "import matplotlib.pyplot as plt\n",
    "import pandas as pd\n",
    "import scipy.stats as stats\n",
    "import pylab \n",
    "from sklearn import preprocessing"
   ]
  },
  {
   "cell_type": "code",
   "execution_count": 2,
   "metadata": {},
   "outputs": [],
   "source": [
    "df=pd.read_csv('D:/UIUC/IE517 machine learning/week3/homework/HY_Universe_corporate bond.csv')"
   ]
  },
  {
   "cell_type": "code",
   "execution_count": 3,
   "metadata": {},
   "outputs": [
    {
     "data": {
      "text/html": [
       "<div>\n",
       "<style scoped>\n",
       "    .dataframe tbody tr th:only-of-type {\n",
       "        vertical-align: middle;\n",
       "    }\n",
       "\n",
       "    .dataframe tbody tr th {\n",
       "        vertical-align: top;\n",
       "    }\n",
       "\n",
       "    .dataframe thead th {\n",
       "        text-align: right;\n",
       "    }\n",
       "</style>\n",
       "<table border=\"1\" class=\"dataframe\">\n",
       "  <thead>\n",
       "    <tr style=\"text-align: right;\">\n",
       "      <th></th>\n",
       "      <th>CUSIP</th>\n",
       "      <th>Ticker</th>\n",
       "      <th>Issue Date</th>\n",
       "      <th>Maturity</th>\n",
       "      <th>1st Call Date</th>\n",
       "      <th>Moodys</th>\n",
       "      <th>S_and_P</th>\n",
       "      <th>Fitch</th>\n",
       "      <th>Bloomberg Composite Rating</th>\n",
       "      <th>Coupon</th>\n",
       "      <th>...</th>\n",
       "      <th>percent_intra_dealer</th>\n",
       "      <th>percent_uncapped</th>\n",
       "      <th>bond_type</th>\n",
       "      <th>Client_Trade_Percentage</th>\n",
       "      <th>weekly_mean_volume</th>\n",
       "      <th>weekly_median_volume</th>\n",
       "      <th>weekly_max_volume</th>\n",
       "      <th>weekly_min_volume</th>\n",
       "      <th>weekly_mean_ntrades</th>\n",
       "      <th>weekly_median_ntrades</th>\n",
       "    </tr>\n",
       "  </thead>\n",
       "  <tbody>\n",
       "    <tr>\n",
       "      <th>0</th>\n",
       "      <td>000324AA1</td>\n",
       "      <td>FLECIN</td>\n",
       "      <td>7/1/2014</td>\n",
       "      <td>7/1/2019</td>\n",
       "      <td>10/23/2017</td>\n",
       "      <td>Nan</td>\n",
       "      <td>Nan</td>\n",
       "      <td>Nan</td>\n",
       "      <td>Nan</td>\n",
       "      <td>12.00</td>\n",
       "      <td>...</td>\n",
       "      <td>0.006645</td>\n",
       "      <td>0.292359</td>\n",
       "      <td>5</td>\n",
       "      <td>0.521595</td>\n",
       "      <td>3105926.765</td>\n",
       "      <td>2000000.0</td>\n",
       "      <td>18980000.0</td>\n",
       "      <td>60000.0</td>\n",
       "      <td>3.541176</td>\n",
       "      <td>1</td>\n",
       "    </tr>\n",
       "    <tr>\n",
       "      <th>1</th>\n",
       "      <td>00080QAB1</td>\n",
       "      <td>RBS</td>\n",
       "      <td>3/15/2004</td>\n",
       "      <td>6/4/2018</td>\n",
       "      <td>Nan</td>\n",
       "      <td>Ba1</td>\n",
       "      <td>BB+</td>\n",
       "      <td>BBB</td>\n",
       "      <td>BB+</td>\n",
       "      <td>4.65</td>\n",
       "      <td>...</td>\n",
       "      <td>0.425018</td>\n",
       "      <td>0.974071</td>\n",
       "      <td>2</td>\n",
       "      <td>0.337071</td>\n",
       "      <td>1721696.774</td>\n",
       "      <td>1160000.0</td>\n",
       "      <td>11197000.0</td>\n",
       "      <td>5000.0</td>\n",
       "      <td>18.412903</td>\n",
       "      <td>3</td>\n",
       "    </tr>\n",
       "    <tr>\n",
       "      <th>2</th>\n",
       "      <td>00081TAD0</td>\n",
       "      <td>ACCO</td>\n",
       "      <td>5/14/2010</td>\n",
       "      <td>3/15/2015</td>\n",
       "      <td>Nan</td>\n",
       "      <td>WR</td>\n",
       "      <td>NR</td>\n",
       "      <td>BB+</td>\n",
       "      <td>NR</td>\n",
       "      <td>10.63</td>\n",
       "      <td>...</td>\n",
       "      <td>0.115207</td>\n",
       "      <td>0.594470</td>\n",
       "      <td>5</td>\n",
       "      <td>0.467742</td>\n",
       "      <td>4200313.433</td>\n",
       "      <td>3520000.0</td>\n",
       "      <td>14000000.0</td>\n",
       "      <td>24000.0</td>\n",
       "      <td>6.477612</td>\n",
       "      <td>1</td>\n",
       "    </tr>\n",
       "    <tr>\n",
       "      <th>3</th>\n",
       "      <td>00081TAH1</td>\n",
       "      <td>ACCO</td>\n",
       "      <td>6/17/2013</td>\n",
       "      <td>4/30/2020</td>\n",
       "      <td>Nan</td>\n",
       "      <td>WR</td>\n",
       "      <td>NR</td>\n",
       "      <td>WD</td>\n",
       "      <td>NR</td>\n",
       "      <td>6.75</td>\n",
       "      <td>...</td>\n",
       "      <td>0.426332</td>\n",
       "      <td>0.892462</td>\n",
       "      <td>3</td>\n",
       "      <td>0.212864</td>\n",
       "      <td>6321559.783</td>\n",
       "      <td>5487500.0</td>\n",
       "      <td>18459000.0</td>\n",
       "      <td>30000.0</td>\n",
       "      <td>27.038043</td>\n",
       "      <td>1</td>\n",
       "    </tr>\n",
       "    <tr>\n",
       "      <th>4</th>\n",
       "      <td>00081TAJ7</td>\n",
       "      <td>ACCO</td>\n",
       "      <td>12/22/2016</td>\n",
       "      <td>12/15/2024</td>\n",
       "      <td>12/15/2019</td>\n",
       "      <td>B1</td>\n",
       "      <td>BB-</td>\n",
       "      <td>BB</td>\n",
       "      <td>BB-</td>\n",
       "      <td>5.25</td>\n",
       "      <td>...</td>\n",
       "      <td>0.157216</td>\n",
       "      <td>0.690722</td>\n",
       "      <td>5</td>\n",
       "      <td>0.500000</td>\n",
       "      <td>5936714.286</td>\n",
       "      <td>3305500.0</td>\n",
       "      <td>72760000.0</td>\n",
       "      <td>90000.0</td>\n",
       "      <td>9.238095</td>\n",
       "      <td>1</td>\n",
       "    </tr>\n",
       "  </tbody>\n",
       "</table>\n",
       "<p>5 rows × 37 columns</p>\n",
       "</div>"
      ],
      "text/plain": [
       "       CUSIP  Ticker  Issue Date    Maturity 1st Call Date Moodys S_and_P  \\\n",
       "0  000324AA1  FLECIN    7/1/2014    7/1/2019    10/23/2017    Nan     Nan   \n",
       "1  00080QAB1     RBS   3/15/2004    6/4/2018           Nan    Ba1     BB+   \n",
       "2  00081TAD0    ACCO   5/14/2010   3/15/2015           Nan     WR      NR   \n",
       "3  00081TAH1    ACCO   6/17/2013   4/30/2020           Nan     WR      NR   \n",
       "4  00081TAJ7    ACCO  12/22/2016  12/15/2024    12/15/2019     B1     BB-   \n",
       "\n",
       "  Fitch Bloomberg Composite Rating  Coupon  ...  percent_intra_dealer  \\\n",
       "0   Nan                        Nan   12.00  ...              0.006645   \n",
       "1   BBB                        BB+    4.65  ...              0.425018   \n",
       "2   BB+                         NR   10.63  ...              0.115207   \n",
       "3    WD                         NR    6.75  ...              0.426332   \n",
       "4    BB                        BB-    5.25  ...              0.157216   \n",
       "\n",
       "  percent_uncapped bond_type  Client_Trade_Percentage weekly_mean_volume  \\\n",
       "0         0.292359         5                 0.521595        3105926.765   \n",
       "1         0.974071         2                 0.337071        1721696.774   \n",
       "2         0.594470         5                 0.467742        4200313.433   \n",
       "3         0.892462         3                 0.212864        6321559.783   \n",
       "4         0.690722         5                 0.500000        5936714.286   \n",
       "\n",
       "   weekly_median_volume weekly_max_volume weekly_min_volume  \\\n",
       "0             2000000.0        18980000.0           60000.0   \n",
       "1             1160000.0        11197000.0            5000.0   \n",
       "2             3520000.0        14000000.0           24000.0   \n",
       "3             5487500.0        18459000.0           30000.0   \n",
       "4             3305500.0        72760000.0           90000.0   \n",
       "\n",
       "  weekly_mean_ntrades weekly_median_ntrades  \n",
       "0            3.541176                     1  \n",
       "1           18.412903                     3  \n",
       "2            6.477612                     1  \n",
       "3           27.038043                     1  \n",
       "4            9.238095                     1  \n",
       "\n",
       "[5 rows x 37 columns]"
      ]
     },
     "execution_count": 3,
     "metadata": {},
     "output_type": "execute_result"
    }
   ],
   "source": [
    "df.head()"
   ]
  },
  {
   "cell_type": "code",
   "execution_count": 4,
   "metadata": {},
   "outputs": [
    {
     "name": "stdout",
     "output_type": "stream",
     "text": [
      "1st Call Date\n",
      "Moodys\n",
      "S_and_P\n",
      "Fitch\n",
      "Bloomberg Composite Rating\n",
      "Months in JNK\n",
      "Months in HYG\n",
      "Months in Both\n"
     ]
    }
   ],
   "source": [
    "#show all the columns that have Nan\n",
    "for i in df.columns:\n",
    "    if 'Nan'in df[i].tolist():\n",
    "        print(i)"
   ]
  },
  {
   "cell_type": "code",
   "execution_count": 5,
   "metadata": {},
   "outputs": [
    {
     "data": {
      "image/png": "[encoded data removed]",
      "text/plain": [
       "<Figure size 432x288 with 1 Axes>"
      ]
     },
     "metadata": {
      "needs_background": "light"
     },
     "output_type": "display_data"
    }
   ],
   "source": [
    "#QQ Plot\n",
    "stats.probplot(df['LIQ SCORE'],dist='norm',plot=pylab)\n",
    "pylab.show()"
   ]
  },
  {
   "cell_type": "code",
   "execution_count": 6,
   "metadata": {},
   "outputs": [
    {
     "data": {
      "text/plain": [
       "array(['CUSIP', 'Ticker', 'Issue Date', 'Maturity', '1st Call Date',\n",
       "       'Moodys', 'S_and_P', 'Fitch', 'Bloomberg Composite Rating',\n",
       "       'Coupon', 'Issued Amount', 'Maturity Type', 'Coupon Type',\n",
       "       'Maturity At Issue months', 'Industry', 'LiquidityScore',\n",
       "       'Months in JNK', 'Months in HYG', 'Months in Both', 'IN_ETF',\n",
       "       'LIQ SCORE', 'n_trades', 'volume_trades', 'total_median_size',\n",
       "       'total_mean_size', 'n_days_trade', 'days_diff_max',\n",
       "       'percent_intra_dealer', 'percent_uncapped', 'bond_type',\n",
       "       'Client_Trade_Percentage', 'weekly_mean_volume',\n",
       "       'weekly_median_volume', 'weekly_max_volume', 'weekly_min_volume',\n",
       "       'weekly_mean_ntrades', 'weekly_median_ntrades'], dtype=object)"
      ]
     },
     "execution_count": 6,
     "metadata": {},
     "output_type": "execute_result"
    }
   ],
   "source": [
    "df.columns.values"
   ]
  },
  {
   "cell_type": "code",
   "execution_count": 7,
   "metadata": {},
   "outputs": [],
   "source": [
    "#Standardization\n",
    "x=df.iloc[:,20:30]\n",
    "scaler=preprocessing.StandardScaler()\n",
    "x_scaler=scaler.fit_transform(x)\n",
    "x_scaler_df=pd.DataFrame(x_scaler)"
   ]
  },
  {
   "cell_type": "code",
   "execution_count": 8,
   "metadata": {},
   "outputs": [
    {
     "name": "stdout",
     "output_type": "stream",
     "text": [
      "          0         1         2         3         4         5         6  \\\n",
      "0  1.000000  0.803139  0.786718 -0.627008 -0.656980  0.873040  0.717280   \n",
      "1  0.803139  1.000000  0.769322 -0.425801 -0.468673  0.704310  0.497633   \n",
      "2  0.786718  0.769322  1.000000 -0.276204 -0.278564  0.772564  0.540932   \n",
      "3 -0.627008 -0.425801 -0.276204  1.000000  0.930213 -0.490428 -0.425033   \n",
      "4 -0.656980 -0.468673 -0.278564  0.930213  1.000000 -0.494483 -0.430947   \n",
      "5  0.873040  0.704310  0.772564 -0.490428 -0.494483  1.000000  0.796236   \n",
      "6  0.717280  0.497633  0.540932 -0.425033 -0.430947  0.796236  1.000000   \n",
      "7  0.671903  0.415695  0.387555 -0.650101 -0.679317  0.500944  0.386251   \n",
      "8  0.666321  0.396880  0.241814 -0.826443 -0.862401  0.433119  0.369973   \n",
      "9 -0.368492 -0.208283 -0.452584  0.081332  0.086759 -0.444068 -0.244259   \n",
      "\n",
      "          7         8         9  \n",
      "0  0.671903  0.666321 -0.368492  \n",
      "1  0.415695  0.396880 -0.208283  \n",
      "2  0.387555  0.241814 -0.452584  \n",
      "3 -0.650101 -0.826443  0.081332  \n",
      "4 -0.679317 -0.862401  0.086759  \n",
      "5  0.500944  0.433119 -0.444068  \n",
      "6  0.386251  0.369973 -0.244259  \n",
      "7  1.000000  0.581007 -0.294422  \n",
      "8  0.581007  1.000000 -0.106570  \n",
      "9 -0.294422 -0.106570  1.000000  \n"
     ]
    }
   ],
   "source": [
    "#print heatmap\n",
    "#calculate correlation metrix\n",
    "corMat=pd.DataFrame(x_scaler_df.corr())\n",
    "print(corMat)"
   ]
  },
  {
   "cell_type": "code",
   "execution_count": 9,
   "metadata": {},
   "outputs": [
    {
     "data": {
      "image/png": "[encoded data removed]",
      "text/plain": [
       "<Figure size 432x288 with 1 Axes>"
      ]
     },
     "metadata": {
      "needs_background": "light"
     },
     "output_type": "display_data"
    }
   ],
   "source": [
    "plt.pcolor(corMat)\n",
    "plt.show()"
   ]
  },
  {
   "cell_type": "code",
   "execution_count": 10,
   "metadata": {},
   "outputs": [
    {
     "data": {
      "image/png": "[encoded data removed]",
      "text/plain": [
       "<Figure size 432x288 with 1 Axes>"
      ]
     },
     "metadata": {
      "needs_background": "light"
     },
     "output_type": "display_data"
    }
   ],
   "source": [
    "#Scatter plot1\n",
    "plt.grid(True,linestyle='-.')\n",
    "plt.xlabel('Coupon')\n",
    "plt.ylabel('Maturity at Issue months')\n",
    "plt.title('Coupon V Months_to_Maturity')\n",
    "_=plt.scatter(df['Coupon'],df['Maturity At Issue months'])"
   ]
  },
  {
   "cell_type": "code",
   "execution_count": 11,
   "metadata": {},
   "outputs": [
    {
     "data": {
      "image/png": "[encoded data removed]",
      "text/plain": [
       "<Figure size 432x288 with 1 Axes>"
      ]
     },
     "metadata": {
      "needs_background": "light"
     },
     "output_type": "display_data"
    }
   ],
   "source": [
    "#Scatter plot2\n",
    "plt.grid(True,linestyle='-.')\n",
    "plt.xlabel('Maturity At Issue months')\n",
    "plt.ylabel('LiquidityScore')\n",
    "plt.title('Maturity At Issue months V LiquidityScore')\n",
    "_=plt.scatter(df['Maturity At Issue months'],df['LiquidityScore'])"
   ]
  },
  {
   "cell_type": "code",
   "execution_count": 12,
   "metadata": {},
   "outputs": [
    {
     "data": {
      "image/png": "[encoded data removed]",
      "text/plain": [
       "<Figure size 1080x360 with 1 Axes>"
      ]
     },
     "metadata": {
      "needs_background": "light"
     },
     "output_type": "display_data"
    }
   ],
   "source": [
    "#Histogram\n",
    "moodys=df['Moodys'][-df['Moodys'].isin(['Nan'])]\n",
    "plt.figure(figsize=(15,5))\n",
    "plt.xlabel('Credit Ratings')\n",
    "plt.ylabel('Amounts')\n",
    "plt.title('Moodys Histogram')\n",
    "plt.xticks(fontsize=8,rotation=50)\n",
    "_=plt.hist(moodys)"
   ]
  },
  {
   "cell_type": "code",
   "execution_count": 13,
   "metadata": {},
   "outputs": [],
   "source": [
    "summary=df.describe()"
   ]
  },
  {
   "cell_type": "code",
   "execution_count": 14,
   "metadata": {},
   "outputs": [
    {
     "name": "stdout",
     "output_type": "stream",
     "text": [
      "            Coupon  Issued Amount  Maturity At Issue months  LiquidityScore  \\\n",
      "count  2721.000000   2.721000e+03               2721.000000     2721.000000   \n",
      "mean     10.307872   8.299295e+08                113.968997       18.218230   \n",
      "std      63.051382   5.802790e+08                101.893176        7.872071   \n",
      "min       0.000000   3.700000e+08                 11.930000        4.388758   \n",
      "25%       5.000000   5.000000e+08                 65.170000       12.738630   \n",
      "50%       6.250000   6.500000e+08                 97.370000       16.538471   \n",
      "75%       7.750000   1.000000e+09                121.770000       22.120108   \n",
      "max     999.000000   7.364026e+09               1217.570000       54.673908   \n",
      "\n",
      "         LIQ SCORE      n_trades  volume_trades  total_median_size  \\\n",
      "count  2721.000000   2721.000000   2.721000e+03       2.721000e+03   \n",
      "mean      0.182182   2700.696435   7.222372e+08       5.361476e+05   \n",
      "std       0.078721   5572.262205   1.027825e+09       4.193546e+05   \n",
      "min       0.043888      1.000000   7.000000e+03       4.000000e+03   \n",
      "25%       0.127386    116.000000   6.189000e+07       7.500000e+04   \n",
      "50%       0.165385    674.000000   3.480000e+08       5.000000e+05   \n",
      "75%       0.221201   2467.000000   9.328420e+08       1.000000e+06   \n",
      "max       0.546739  57935.000000   8.979960e+09       3.400000e+06   \n",
      "\n",
      "       total_mean_size  n_days_trade  ...  percent_intra_dealer  \\\n",
      "count     2.721000e+03   2721.000000  ...           2721.000000   \n",
      "mean      5.255853e+05    316.581771  ...              0.244306   \n",
      "std       2.670677e+05    347.802629  ...              0.152165   \n",
      "min       5.000000e+03      1.000000  ...              0.000000   \n",
      "25%       3.010473e+05     45.000000  ...              0.124731   \n",
      "50%       5.769231e+05    184.000000  ...              0.250000   \n",
      "75%       7.289650e+05    483.000000  ...              0.356808   \n",
      "max       3.400000e+06   1667.000000  ...              1.000000   \n",
      "\n",
      "       percent_uncapped    bond_type  Client_Trade_Percentage  \\\n",
      "count       2721.000000  2721.000000              2721.000000   \n",
      "mean           0.676536     3.496141                 0.379648   \n",
      "std            0.219661     1.712004                 0.144545   \n",
      "min            0.000000     1.000000                 0.000000   \n",
      "25%            0.534224     1.000000                 0.290826   \n",
      "50%            0.681992     5.000000                 0.376385   \n",
      "75%            0.859256     5.000000                 0.448718   \n",
      "max            1.000000     5.000000                 1.000000   \n",
      "\n",
      "       weekly_mean_volume  weekly_median_volume  weekly_max_volume  \\\n",
      "count        2.721000e+03          2.721000e+03       2.721000e+03   \n",
      "mean         7.588325e+06          5.672609e+06       4.915523e+07   \n",
      "std          8.979311e+06          7.340321e+06       6.703860e+07   \n",
      "min          7.000000e+03          7.000000e+03       7.000000e+03   \n",
      "25%          2.295273e+06          1.750000e+06       9.020000e+06   \n",
      "50%          4.926339e+06          3.527000e+06       2.410000e+07   \n",
      "75%          9.649299e+06          7.011000e+06       6.370500e+07   \n",
      "max          1.179500e+08          1.179500e+08       8.728140e+08   \n",
      "\n",
      "       weekly_min_volume  weekly_mean_ntrades  weekly_median_ntrades  \n",
      "count       2.721000e+03          2721.000000            2721.000000  \n",
      "mean        6.690499e+05            21.598988               2.471885  \n",
      "std         3.094537e+06            32.901129               5.581749  \n",
      "min         1.400000e+01             1.000000               1.000000  \n",
      "25%         2.100000e+04             4.046154               1.000000  \n",
      "50%         1.060000e+05            10.821429               1.000000  \n",
      "75%         4.300000e+05            24.526316               2.000000  \n",
      "max         1.002500e+08           513.769231             160.000000  \n",
      "\n",
      "[8 rows x 21 columns]\n"
     ]
    }
   ],
   "source": [
    "print(summary)"
   ]
  },
  {
   "cell_type": "code",
   "execution_count": 15,
   "metadata": {},
   "outputs": [
    {
     "name": "stdout",
     "output_type": "stream",
     "text": [
      "4\n",
      "5\n",
      "7\n",
      "8\n"
     ]
    },
    {
     "data": {
      "image/png": "[encoded data removed]",
      "text/plain": [
       "<Figure size 432x288 with 1 Axes>"
      ]
     },
     "metadata": {
      "needs_background": "light"
     },
     "output_type": "display_data"
    }
   ],
   "source": [
    "dfNormalized=df.iloc[:,[20,21,23,24]]\n",
    "l = [4,5,7,8]\n",
    "for i in l:\n",
    "    mean=summary.iloc[1,i]\n",
    "    sd=summary.iloc[2,i]\n",
    "    dfNormalized.iloc[:,i:(i+1)]=(dfNormalized.iloc[:,i:(i+1)]-mean)/sd\n",
    "    print(i)\n",
    "array=dfNormalized.values\n",
    "plt.boxplot(array)\n",
    "plt.xlabel(\"Attribute Index\")\n",
    "plt.ylabel((\"Quartile Ranges-Normalized\"))\n",
    "plt.show()"
   ]
  },
  {
   "cell_type": "code",
   "execution_count": 18,
   "metadata": {},
   "outputs": [
    {
     "name": "stdout",
     "output_type": "stream",
     "text": [
      "My name is Chenxiang Zhang and you can call me Franklin\n",
      "My NetID is:cz52\n",
      "I hereby certify that I have read the University policy on Academic Integrity and that I am not in violation.\n"
     ]
    }
   ],
   "source": [
    "print(\"My name is Chenxiang Zhang and you can call me Franklin\")\n",
    "print(\"My NetID is:cz52\")\n",
    "print(\"I hereby certify that I have read the University policy on Academic Integrity and that I am not in violation.\")"
   ]
  },
  {
   "cell_type": "code",
   "execution_count": null,
   "metadata": {},
   "outputs": [],
   "source": []
  }
 ],
 "metadata": {
  "kernelspec": {
   "display_name": "Python 3",
   "language": "python",
   "name": "python3"
  },
  "language_info": {
   "codemirror_mode": {
    "name": "ipython",
    "version": 3
   },
   "file_extension": ".py",
   "mimetype": "text/x-python",
   "name": "python",
   "nbconvert_exporter": "python",
   "pygments_lexer": "ipython3",
   "version": "3.8.3"
  }
 },
 "nbformat": 4,
 "nbformat_minor": 4
}
